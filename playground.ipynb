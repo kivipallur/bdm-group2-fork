{
 "cells": [
  {
   "cell_type": "code",
   "execution_count": null,
   "id": "4dc3639e-1c2e-4bfc-aae5-f711461b4910",
   "metadata": {},
   "outputs": [],
   "source": [
    "from pyspark.sql import SparkSession\n",
    "#DISCLAIMER: this notebook is simply a sandbox for testing,\n",
    "#  for solutions refer to project1 notebook in ipynb_checkpoints\n",
    "spark = (SparkSession.builder\n",
    "                    .appName('helloSpark').master('local[*]')\n",
    "                    .getOrCreate()\n",
    "        )"
   ]
  },
  {
   "cell_type": "code",
   "execution_count": 2,
   "id": "b9be144a-45d4-4a5d-a4db-bec546cdd1d2",
   "metadata": {},
   "outputs": [],
   "source": [
    "#Reads only the first csv into Dataframe for testing purposes (2.29GB)\n",
    "df = spark.read.option(\"maxPartitionBytes\", \"64MB\").csv(\"input/trip_data/trip_data_1.csv\", header=True, inferSchema=True)\n",
    "\n",
    "\n",
    "csv_path = \"input/trip_data/\"  # Change this to your folder path\n",
    "# Reads all CSV files in the trip_data dir into one DataFrame\n",
    "#df = spark.read.csv(csv_path, header=True, inferSchema=True)\n",
    "#df.show()"
   ]
  },
  {
   "cell_type": "code",
   "execution_count": 3,
   "id": "99e51565-7076-4870-9928-15f02a51ae52",
   "metadata": {},
   "outputs": [
    {
     "data": {
      "text/plain": [
       "['medallion',\n",
       " 'hack_license',\n",
       " 'vendor_id',\n",
       " 'rate_code',\n",
       " 'store_and_fwd_flag',\n",
       " 'pickup_datetime',\n",
       " 'dropoff_datetime',\n",
       " 'passenger_count',\n",
       " 'trip_time_in_secs',\n",
       " 'trip_distance',\n",
       " 'pickup_longitude',\n",
       " 'pickup_latitude',\n",
       " 'dropoff_longitude',\n",
       " 'dropoff_latitude']"
      ]
     },
     "execution_count": 3,
     "metadata": {},
     "output_type": "execute_result"
    }
   ],
   "source": [
    "df.columns"
   ]
  },
  {
   "cell_type": "code",
   "execution_count": 4,
   "id": "0bfbc518-0914-4263-a441-f9943f730a7a",
   "metadata": {},
   "outputs": [],
   "source": [
    "#df.show(1)\n",
    "#df.count()"
   ]
  },
  {
   "cell_type": "code",
   "execution_count": 5,
   "id": "9b870798-5bd9-4b2d-afdd-c5e9642dba10",
   "metadata": {},
   "outputs": [
    {
     "data": {
      "text/html": [
       "<table border='1'>\n",
       "<tr><th>medallion</th><th>hack_license</th><th>vendor_id</th><th>rate_code</th><th>store_and_fwd_flag</th><th>pickup_datetime</th><th>dropoff_datetime</th><th>passenger_count</th><th>trip_time_in_secs</th><th>trip_distance</th><th>pickup_longitude</th><th>pickup_latitude</th><th>dropoff_longitude</th><th>dropoff_latitude</th></tr>\n",
       "<tr><td>89D227B655E5C82AE...</td><td>BA96DE419E711691B...</td><td>CMT</td><td>1</td><td>N</td><td>2013-01-01 15:11:48</td><td>2013-01-01 15:18:10</td><td>4</td><td>382</td><td>1.0</td><td>-73.978165</td><td>40.757977</td><td>-73.989838</td><td>40.751171</td></tr>\n",
       "<tr><td>0BD7C8F5BA12B88E0...</td><td>9FD8F69F0804BDB55...</td><td>CMT</td><td>1</td><td>N</td><td>2013-01-06 00:18:35</td><td>2013-01-06 00:22:54</td><td>1</td><td>259</td><td>1.5</td><td>-74.006683</td><td>40.731781</td><td>-73.994499</td><td>40.75066</td></tr>\n",
       "<tr><td>0BD7C8F5BA12B88E0...</td><td>9FD8F69F0804BDB55...</td><td>CMT</td><td>1</td><td>N</td><td>2013-01-05 18:49:41</td><td>2013-01-05 18:54:23</td><td>1</td><td>282</td><td>1.1</td><td>-74.004707</td><td>40.73777</td><td>-74.009834</td><td>40.726002</td></tr>\n",
       "<tr><td>DFD2202EE08F7A8DC...</td><td>51EE87E3205C985EF...</td><td>CMT</td><td>1</td><td>N</td><td>2013-01-07 23:54:15</td><td>2013-01-07 23:58:20</td><td>2</td><td>244</td><td>0.7</td><td>-73.974602</td><td>40.759945</td><td>-73.984734</td><td>40.759388</td></tr>\n",
       "<tr><td>DFD2202EE08F7A8DC...</td><td>51EE87E3205C985EF...</td><td>CMT</td><td>1</td><td>N</td><td>2013-01-07 23:25:03</td><td>2013-01-07 23:34:24</td><td>1</td><td>560</td><td>2.1</td><td>-73.97625</td><td>40.748528</td><td>-74.002586</td><td>40.747868</td></tr>\n",
       "<tr><td>20D9ECB2CA0767CF7...</td><td>598CCE5B9C1918568...</td><td>CMT</td><td>1</td><td>N</td><td>2013-01-07 15:27:48</td><td>2013-01-07 15:38:37</td><td>1</td><td>648</td><td>1.7</td><td>-73.966743</td><td>40.764252</td><td>-73.983322</td><td>40.743763</td></tr>\n",
       "<tr><td>496644932DF393260...</td><td>513189AD756FF14FE...</td><td>CMT</td><td>1</td><td>N</td><td>2013-01-08 11:01:15</td><td>2013-01-08 11:08:14</td><td>1</td><td>418</td><td>0.8</td><td>-73.995804</td><td>40.743977</td><td>-74.007416</td><td>40.744343</td></tr>\n",
       "<tr><td>0B57B9633A2FECD3D...</td><td>CCD4367B417ED6634...</td><td>CMT</td><td>1</td><td>N</td><td>2013-01-07 12:39:18</td><td>2013-01-07 13:10:56</td><td>3</td><td>1898</td><td>10.7</td><td>-73.989937</td><td>40.756775</td><td>-73.86525</td><td>40.77063</td></tr>\n",
       "<tr><td>2C0E91FF20A856C89...</td><td>1DA2F6543A62B8ED9...</td><td>CMT</td><td>1</td><td>N</td><td>2013-01-07 18:15:47</td><td>2013-01-07 18:20:47</td><td>1</td><td>299</td><td>0.8</td><td>-73.980072</td><td>40.743137</td><td>-73.982712</td><td>40.735336</td></tr>\n",
       "<tr><td>2D4B95E2FA7B2E851...</td><td>CD2F522EEE1FF5F5A...</td><td>CMT</td><td>1</td><td>N</td><td>2013-01-07 15:33:28</td><td>2013-01-07 15:49:26</td><td>2</td><td>957</td><td>2.5</td><td>-73.977936</td><td>40.786983</td><td>-73.952919</td><td>40.80637</td></tr>\n",
       "<tr><td>E12F6AF991172EAC3...</td><td>06918214E951FA000...</td><td>CMT</td><td>1</td><td>N</td><td>2013-01-08 13:11:52</td><td>2013-01-08 13:19:50</td><td>1</td><td>477</td><td>1.3</td><td>-73.982452</td><td>40.773167</td><td>-73.964134</td><td>40.773815</td></tr>\n",
       "<tr><td>E12F6AF991172EAC3...</td><td>06918214E951FA000...</td><td>CMT</td><td>1</td><td>N</td><td>2013-01-08 09:50:05</td><td>2013-01-08 10:02:54</td><td>1</td><td>768</td><td>0.7</td><td>-73.99556</td><td>40.749294</td><td>-73.988686</td><td>40.759052</td></tr>\n",
       "<tr><td>78FFD9CD0CDA541F3...</td><td>E949C583ECF62C8F0...</td><td>CMT</td><td>1</td><td>N</td><td>2013-01-10 12:07:08</td><td>2013-01-10 12:17:29</td><td>1</td><td>620</td><td>2.3</td><td>-73.971497</td><td>40.791321</td><td>-73.964478</td><td>40.775921</td></tr>\n",
       "<tr><td>237F49C3ECC11F502...</td><td>93C363DDF8ED9385D...</td><td>CMT</td><td>1</td><td>N</td><td>2013-01-07 07:35:47</td><td>2013-01-07 07:46:00</td><td>1</td><td>612</td><td>2.3</td><td>-73.98851</td><td>40.774307</td><td>-73.981094</td><td>40.755325</td></tr>\n",
       "<tr><td>3349F919AA8AE5DC9...</td><td>7CE849FEF67514F08...</td><td>CMT</td><td>1</td><td>N</td><td>2013-01-10 15:42:29</td><td>2013-01-10 16:04:02</td><td>1</td><td>1293</td><td>3.2</td><td>-73.994911</td><td>40.723221</td><td>-73.971558</td><td>40.761612</td></tr>\n",
       "<tr><td>3349F919AA8AE5DC9...</td><td>7CE849FEF67514F08...</td><td>CMT</td><td>1</td><td>N</td><td>2013-01-10 14:27:28</td><td>2013-01-10 14:45:21</td><td>1</td><td>1073</td><td>4.4</td><td>-74.010391</td><td>40.708702</td><td>-73.987846</td><td>40.756104</td></tr>\n",
       "<tr><td>4C005EEBAA7BF26B8...</td><td>351BE7D984BE17DB2...</td><td>CMT</td><td>1</td><td>N</td><td>2013-01-07 22:09:59</td><td>2013-01-07 22:19:50</td><td>1</td><td>591</td><td>1.7</td><td>-73.973732</td><td>40.756287</td><td>-73.998413</td><td>40.756832</td></tr>\n",
       "<tr><td>7D99C30FCE69B1A9D...</td><td>460C3F57DD9CB2265...</td><td>CMT</td><td>1</td><td>N</td><td>2013-01-07 17:18:16</td><td>2013-01-07 17:20:55</td><td>1</td><td>158</td><td>0.7</td><td>-73.968925</td><td>40.767704</td><td>-73.96199</td><td>40.776566</td></tr>\n",
       "<tr><td>E6FBF80668FE0611A...</td><td>36773E80775F26CD1...</td><td>CMT</td><td>1</td><td>N</td><td>2013-01-07 06:08:51</td><td>2013-01-07 06:13:14</td><td>1</td><td>262</td><td>1.7</td><td>-73.96212</td><td>40.769737</td><td>-73.979561</td><td>40.75539</td></tr>\n",
       "<tr><td>0C5296F3C8B16E702...</td><td>D2363240A9295EF57...</td><td>CMT</td><td>1</td><td>N</td><td>2013-01-07 22:25:46</td><td>2013-01-07 22:36:56</td><td>1</td><td>669</td><td>2.3</td><td>-73.989708</td><td>40.756714</td><td>-73.977615</td><td>40.787575</td></tr>\n",
       "</table>\n",
       "only showing top 20 rows\n"
      ],
      "text/plain": [
       "+--------------------+--------------------+---------+---------+------------------+-------------------+-------------------+---------------+-----------------+-------------+----------------+---------------+-----------------+----------------+\n",
       "|           medallion|        hack_license|vendor_id|rate_code|store_and_fwd_flag|    pickup_datetime|   dropoff_datetime|passenger_count|trip_time_in_secs|trip_distance|pickup_longitude|pickup_latitude|dropoff_longitude|dropoff_latitude|\n",
       "+--------------------+--------------------+---------+---------+------------------+-------------------+-------------------+---------------+-----------------+-------------+----------------+---------------+-----------------+----------------+\n",
       "|89D227B655E5C82AE...|BA96DE419E711691B...|      CMT|        1|                 N|2013-01-01 15:11:48|2013-01-01 15:18:10|              4|              382|          1.0|      -73.978165|      40.757977|       -73.989838|       40.751171|\n",
       "|0BD7C8F5BA12B88E0...|9FD8F69F0804BDB55...|      CMT|        1|                 N|2013-01-06 00:18:35|2013-01-06 00:22:54|              1|              259|          1.5|      -74.006683|      40.731781|       -73.994499|        40.75066|\n",
       "|0BD7C8F5BA12B88E0...|9FD8F69F0804BDB55...|      CMT|        1|                 N|2013-01-05 18:49:41|2013-01-05 18:54:23|              1|              282|          1.1|      -74.004707|       40.73777|       -74.009834|       40.726002|\n",
       "|DFD2202EE08F7A8DC...|51EE87E3205C985EF...|      CMT|        1|                 N|2013-01-07 23:54:15|2013-01-07 23:58:20|              2|              244|          0.7|      -73.974602|      40.759945|       -73.984734|       40.759388|\n",
       "|DFD2202EE08F7A8DC...|51EE87E3205C985EF...|      CMT|        1|                 N|2013-01-07 23:25:03|2013-01-07 23:34:24|              1|              560|          2.1|       -73.97625|      40.748528|       -74.002586|       40.747868|\n",
       "|20D9ECB2CA0767CF7...|598CCE5B9C1918568...|      CMT|        1|                 N|2013-01-07 15:27:48|2013-01-07 15:38:37|              1|              648|          1.7|      -73.966743|      40.764252|       -73.983322|       40.743763|\n",
       "|496644932DF393260...|513189AD756FF14FE...|      CMT|        1|                 N|2013-01-08 11:01:15|2013-01-08 11:08:14|              1|              418|          0.8|      -73.995804|      40.743977|       -74.007416|       40.744343|\n",
       "|0B57B9633A2FECD3D...|CCD4367B417ED6634...|      CMT|        1|                 N|2013-01-07 12:39:18|2013-01-07 13:10:56|              3|             1898|         10.7|      -73.989937|      40.756775|        -73.86525|        40.77063|\n",
       "|2C0E91FF20A856C89...|1DA2F6543A62B8ED9...|      CMT|        1|                 N|2013-01-07 18:15:47|2013-01-07 18:20:47|              1|              299|          0.8|      -73.980072|      40.743137|       -73.982712|       40.735336|\n",
       "|2D4B95E2FA7B2E851...|CD2F522EEE1FF5F5A...|      CMT|        1|                 N|2013-01-07 15:33:28|2013-01-07 15:49:26|              2|              957|          2.5|      -73.977936|      40.786983|       -73.952919|        40.80637|\n",
       "|E12F6AF991172EAC3...|06918214E951FA000...|      CMT|        1|                 N|2013-01-08 13:11:52|2013-01-08 13:19:50|              1|              477|          1.3|      -73.982452|      40.773167|       -73.964134|       40.773815|\n",
       "|E12F6AF991172EAC3...|06918214E951FA000...|      CMT|        1|                 N|2013-01-08 09:50:05|2013-01-08 10:02:54|              1|              768|          0.7|       -73.99556|      40.749294|       -73.988686|       40.759052|\n",
       "|78FFD9CD0CDA541F3...|E949C583ECF62C8F0...|      CMT|        1|                 N|2013-01-10 12:07:08|2013-01-10 12:17:29|              1|              620|          2.3|      -73.971497|      40.791321|       -73.964478|       40.775921|\n",
       "|237F49C3ECC11F502...|93C363DDF8ED9385D...|      CMT|        1|                 N|2013-01-07 07:35:47|2013-01-07 07:46:00|              1|              612|          2.3|       -73.98851|      40.774307|       -73.981094|       40.755325|\n",
       "|3349F919AA8AE5DC9...|7CE849FEF67514F08...|      CMT|        1|                 N|2013-01-10 15:42:29|2013-01-10 16:04:02|              1|             1293|          3.2|      -73.994911|      40.723221|       -73.971558|       40.761612|\n",
       "|3349F919AA8AE5DC9...|7CE849FEF67514F08...|      CMT|        1|                 N|2013-01-10 14:27:28|2013-01-10 14:45:21|              1|             1073|          4.4|      -74.010391|      40.708702|       -73.987846|       40.756104|\n",
       "|4C005EEBAA7BF26B8...|351BE7D984BE17DB2...|      CMT|        1|                 N|2013-01-07 22:09:59|2013-01-07 22:19:50|              1|              591|          1.7|      -73.973732|      40.756287|       -73.998413|       40.756832|\n",
       "|7D99C30FCE69B1A9D...|460C3F57DD9CB2265...|      CMT|        1|                 N|2013-01-07 17:18:16|2013-01-07 17:20:55|              1|              158|          0.7|      -73.968925|      40.767704|        -73.96199|       40.776566|\n",
       "|E6FBF80668FE0611A...|36773E80775F26CD1...|      CMT|        1|                 N|2013-01-07 06:08:51|2013-01-07 06:13:14|              1|              262|          1.7|       -73.96212|      40.769737|       -73.979561|        40.75539|\n",
       "|0C5296F3C8B16E702...|D2363240A9295EF57...|      CMT|        1|                 N|2013-01-07 22:25:46|2013-01-07 22:36:56|              1|              669|          2.3|      -73.989708|      40.756714|       -73.977615|       40.787575|\n",
       "+--------------------+--------------------+---------+---------+------------------+-------------------+-------------------+---------------+-----------------+-------------+----------------+---------------+-----------------+----------------+\n",
       "only showing top 20 rows"
      ]
     },
     "execution_count": 5,
     "metadata": {},
     "output_type": "execute_result"
    }
   ],
   "source": [
    "spark.conf.set('spark.sql.repl.eagerEval.enabled', True)\n",
    "df"
   ]
  },
  {
   "cell_type": "code",
   "execution_count": null,
   "id": "9472b52a-9de5-41a9-be8f-9bd737ecbc59",
   "metadata": {},
   "outputs": [],
   "source": []
  },
  {
   "cell_type": "code",
   "execution_count": 6,
   "id": "ffb82fe2-01cc-48bd-94bb-a3480d223f34",
   "metadata": {},
   "outputs": [
    {
     "name": "stdout",
     "output_type": "stream",
     "text": [
      "root\n",
      " |-- medallion: string (nullable = true)\n",
      " |-- hack_license: string (nullable = true)\n",
      " |-- vendor_id: string (nullable = true)\n",
      " |-- rate_code: integer (nullable = true)\n",
      " |-- store_and_fwd_flag: string (nullable = true)\n",
      " |-- pickup_datetime: timestamp (nullable = true)\n",
      " |-- dropoff_datetime: timestamp (nullable = true)\n",
      " |-- passenger_count: integer (nullable = true)\n",
      " |-- trip_time_in_secs: integer (nullable = true)\n",
      " |-- trip_distance: double (nullable = true)\n",
      " |-- pickup_longitude: double (nullable = true)\n",
      " |-- pickup_latitude: double (nullable = true)\n",
      " |-- dropoff_longitude: double (nullable = true)\n",
      " |-- dropoff_latitude: double (nullable = true)\n",
      "\n"
     ]
    }
   ],
   "source": [
    "df.printSchema() "
   ]
  },
  {
   "cell_type": "code",
   "execution_count": 7,
   "id": "60227869-2b0c-470a-9391-83814a92c048",
   "metadata": {},
   "outputs": [
    {
     "name": "stdout",
     "output_type": "stream",
     "text": [
      "root\n",
      " |-- _corrupt_record: string (nullable = true)\n",
      " |-- geometry: struct (nullable = true)\n",
      " |    |-- coordinates: array (nullable = true)\n",
      " |    |    |-- element: array (containsNull = true)\n",
      " |    |    |    |-- element: array (containsNull = true)\n",
      " |    |    |    |    |-- element: double (containsNull = true)\n",
      " |    |-- type: string (nullable = true)\n",
      " |-- id: long (nullable = true)\n",
      " |-- properties: struct (nullable = true)\n",
      " |    |-- @id: string (nullable = true)\n",
      " |    |-- borough: string (nullable = true)\n",
      " |    |-- boroughCode: long (nullable = true)\n",
      " |-- type: string (nullable = true)\n",
      "\n"
     ]
    }
   ],
   "source": [
    "gdf = spark.read.json(\"input/nyc-boroughs.geojson\")\n",
    "# Show schema\n",
    "gdf.printSchema()"
   ]
  },
  {
   "cell_type": "code",
   "execution_count": 8,
   "id": "843a01cd-3a09-49c0-a8b1-024b39ca0740",
   "metadata": {},
   "outputs": [
    {
     "name": "stdout",
     "output_type": "stream",
     "text": [
      "Requirement already satisfied: shapely in /opt/conda/lib/python3.11/site-packages (2.0.7)\n",
      "Requirement already satisfied: numpy<3,>=1.14 in /opt/conda/lib/python3.11/site-packages (from shapely) (1.26.4)\n",
      "Note: you may need to restart the kernel to use updated packages.\n"
     ]
    }
   ],
   "source": [
    "pip install shapely"
   ]
  },
  {
   "cell_type": "code",
   "execution_count": 9,
   "id": "5bfe0699-35c6-4e6b-84d3-5fc8c950209b",
   "metadata": {},
   "outputs": [
    {
     "data": {
      "text/plain": [
       "Row(_corrupt_record='{', geometry=None, id=None, properties=None, type=None)"
      ]
     },
     "execution_count": 9,
     "metadata": {},
     "output_type": "execute_result"
    }
   ],
   "source": [
    "gdf.head()"
   ]
  },
  {
   "cell_type": "code",
   "execution_count": 10,
   "id": "96873abf-2fa2-495a-86ef-296656c2b390",
   "metadata": {},
   "outputs": [
    {
     "name": "stdout",
     "output_type": "stream",
     "text": [
      "+--------------------+---+--------------------+-------+\n",
      "|            geometry| id|          properties|   type|\n",
      "+--------------------+---+--------------------+-------+\n",
      "|{coordinates -> [...|  0|{@id -> NULL, bor...|Feature|\n",
      "|{coordinates -> [...|  1|{@id -> NULL, bor...|Feature|\n",
      "|{coordinates -> [...|  2|{@id -> NULL, bor...|Feature|\n",
      "|{coordinates -> [...|  3|{@id -> NULL, bor...|Feature|\n",
      "|{coordinates -> [...|  4|{@id -> NULL, bor...|Feature|\n",
      "|{coordinates -> [...|  5|{@id -> NULL, bor...|Feature|\n",
      "|{coordinates -> [...|  6|{@id -> NULL, bor...|Feature|\n",
      "|{coordinates -> [...|  7|{@id -> NULL, bor...|Feature|\n",
      "|{coordinates -> [...|  8|{@id -> NULL, bor...|Feature|\n",
      "|{coordinates -> [...|  9|{@id -> NULL, bor...|Feature|\n",
      "|{coordinates -> [...| 10|{@id -> NULL, bor...|Feature|\n",
      "|{coordinates -> [...| 11|{@id -> NULL, bor...|Feature|\n",
      "|{coordinates -> [...| 12|{@id -> NULL, bor...|Feature|\n",
      "|{coordinates -> [...| 13|{@id -> NULL, bor...|Feature|\n",
      "|{coordinates -> [...| 14|{@id -> NULL, bor...|Feature|\n",
      "|{coordinates -> [...| 15|{@id -> NULL, bor...|Feature|\n",
      "|{coordinates -> [...| 16|{@id -> NULL, bor...|Feature|\n",
      "|{coordinates -> [...| 17|{@id -> NULL, bor...|Feature|\n",
      "|{coordinates -> [...| 18|{@id -> NULL, bor...|Feature|\n",
      "|{coordinates -> [...| 19|{@id -> NULL, bor...|Feature|\n",
      "+--------------------+---+--------------------+-------+\n",
      "only showing top 20 rows\n",
      "\n"
     ]
    }
   ],
   "source": [
    "import json\n",
    "\n",
    "with open(\"input/nyc-boroughs.geojson\") as f:\n",
    "    geojson_data = json.load(f)\n",
    "# Extract features\n",
    "features = geojson_data.get(\"features\", [])\n",
    "\n",
    "# Convert to a Spark DataFrame\n",
    "from pyspark.sql.types import StructType, StructField, StringType, ArrayType, MapType\n",
    "\n",
    "gdf = spark.createDataFrame(features)\n",
    "gdf.show()\n"
   ]
  },
  {
   "cell_type": "code",
   "execution_count": 11,
   "id": "0817ea1a-5d51-4c9f-8d5f-39a17454a700",
   "metadata": {},
   "outputs": [
    {
     "name": "stdout",
     "output_type": "stream",
     "text": [
      "+--------+----------+-------+\n",
      "|latitude| longitude|borough|\n",
      "+--------+----------+-------+\n",
      "|40.73061|-73.935242| Queens|\n",
      "+--------+----------+-------+\n",
      "\n"
     ]
    }
   ],
   "source": [
    "import json\n",
    "from shapely.geometry import Point, Polygon\n",
    "from pyspark.sql import SparkSession\n",
    "from pyspark.sql.functions import udf\n",
    "from pyspark.sql.types import StringType\n",
    "# This solution partially uses ChatGPT\n",
    "\n",
    "boroughcodenames={1:'Manhattan', 2:'Bronx', 3:'Brooklyn', 4:'Queens', 5:'Staten Island'}\n",
    "\n",
    "# Extract borough polygons and their names\n",
    "boroughs = []\n",
    "#print(gdf.collect())\n",
    "for row in gdf.collect():\n",
    "    borough_name = boroughcodenames.get(row.properties.get('boroughCode'))  # Borough name\n",
    "    #print(borough_name)\n",
    "    #print(row.geometry)\n",
    "    coordinates_str = row.geometry.get('coordinates')\n",
    "    coordinates = json.loads(coordinates_str) #this neat trick here converts string to list using json format\n",
    "    #print(coordinates)\n",
    "    # Convert nested list to a Shapely Polygon\n",
    "    polygon = Polygon(coordinates[0])  # Extract first ring (outer boundary)\n",
    "    \n",
    "    # Store borough polygon with name\n",
    "    boroughs.append((borough_name, polygon))\n",
    "\n",
    "#function to check if a coordinate is in a borough\n",
    "def get_borough(longitude, latitude):\n",
    "    point = Point(longitude, latitude)  # Convert to Shapely Point\n",
    "    for borough_name, polygon in boroughs:\n",
    "        if polygon.contains(point):  # Check if point is inside the polygon\n",
    "            return borough_name\n",
    "    return None  # If not in any borough\n",
    "\n",
    "#Register UDF for Spark\n",
    "get_borough_udf = udf(get_borough, StringType())\n",
    "\n",
    "#testrun\n",
    "tdf = spark.createDataFrame([(40.730610, -73.935242)], [\"latitude\", \"longitude\"])\n",
    "tdf = tdf.withColumn(\"borough\", get_borough_udf(tdf.longitude, tdf[\"latitude\"]))\n",
    "tdf.show()\n"
   ]
  },
  {
   "cell_type": "code",
   "execution_count": 17,
   "id": "f9eb56fa-2d1e-4bae-9981-58dcb11b3f01",
   "metadata": {},
   "outputs": [
    {
     "name": "stdout",
     "output_type": "stream",
     "text": [
      "CPU times: user 0 ns, sys: 5.33 ms, total: 5.33 ms\n",
      "Wall time: 23 ms\n"
     ]
    }
   ],
   "source": [
    "%%time\n",
    "from pyspark.sql.functions import col\n",
    "locdf = df.filter(\n",
    "    col(\"pickup_longitude\").isNotNull() & col(\"pickup_latitude\").isNotNull() & col(\"dropoff_longitude\").isNotNull() & col(\"dropoff_latitude\").isNotNull()\n",
    ")\n",
    "#locdf.cache()"
   ]
  },
  {
   "cell_type": "code",
   "execution_count": null,
   "id": "2bac60db-d1cf-4400-9e6d-374696f07892",
   "metadata": {},
   "outputs": [],
   "source": [
    "#ALTERNATE SOLUTION\n",
    "#%%time\n",
    "#number of trips that started and ended within the same borough\n",
    "\n",
    "\n",
    "#sample = locdf.select('pickup_longitude','pickup_latitude', 'dropoff_longitude','dropoff_latitude').where(\n",
    "#    get_borough_udf(locdf.pickup_latitude,locdf.pickup_longitude) == get_borough_udf(locdf.dropoff_latitude,locdf.dropoff_longitude)).limit(100).collect()\n",
    "#print('sample')\n",
    "#print('completed:' + sample.count())"
   ]
  },
  {
   "cell_type": "code",
   "execution_count": null,
   "id": "57223ddc-653e-4bb3-8869-60d96edf49d4",
   "metadata": {},
   "outputs": [],
   "source": [
    "#ALTERNATE SOLUTION\n",
    "#%%time\n",
    "#number of trips that started and ended in different boroughs\n",
    "\n",
    "#count2=locdf.select('pickup_longitude','pickup_latitude', 'dropoff_longitude','dropoff_latitude').where(\n",
    "#    get_borough_udf(locdf.pickup_latitude,locdf.pickup_longitude) != get_borough_udf(locdf.dropoff_latitude,locdf.dropoff_longitude)).count()\n",
    "#print('completed:' + count2)"
   ]
  },
  {
   "cell_type": "code",
   "execution_count": 20,
   "id": "ade490b2-5316-4ea6-854d-241076b26137",
   "metadata": {},
   "outputs": [],
   "source": [
    "#print(locdf.first()['startborough'])\n"
   ]
  },
  {
   "cell_type": "code",
   "execution_count": null,
   "id": "0dee0b11-9188-431c-9c4a-a17a9bed5dd0",
   "metadata": {},
   "outputs": [
    {
     "name": "stdout",
     "output_type": "stream",
     "text": [
      "Starting boroughs registered\n",
      "Ending boroughs registered\n",
      "Disk Serialized 1x Replicated\n"
     ]
    }
   ],
   "source": [
    "%%time\n",
    "#new faster solution\n",
    "#I will give each row a borough before the queries\n",
    "locdf = locdf.withColumn(\"startborough\", get_borough_udf(locdf.pickup_longitude,locdf.pickup_latitude))\n",
    "print(\"Starting boroughs registered\")\n",
    "locdf = locdf.withColumn(\"endborough\", get_borough_udf(locdf.dropoff_longitude,locdf.dropoff_latitude))\n",
    "print(\"Ending boroughs registered\")\n",
    "locdf.cache\n",
    "df.unpersist\n",
    "locdf.repartition(200)\n",
    "\n",
    "from pyspark import StorageLevel\n",
    "locdf = locdf.persist(StorageLevel.DISK_ONLY)\n",
    "# Check the storage level\n",
    "print(locdf.storageLevel)  \n",
    "\n",
    "# Perform an action to trigger execution\n",
    "total_trips = locdf.count()\n",
    "print(total_trips)  "
   ]
  },
  {
   "cell_type": "code",
   "execution_count": null,
   "id": "4ee76b16-b955-4cc3-882b-b55ac458a6a7",
   "metadata": {},
   "outputs": [],
   "source": [
    "inter_boro_trips = locdf.where(locdf.startborough != locdf.endborough).count()\n",
    "print(inter boro_trips)\n",
    "#this would give us how many started in one borough and stopped in another,\n",
    "#if we simply subtract this from count of all others we get how many started&ended in same borough\n"
   ]
  },
  {
   "cell_type": "code",
   "execution_count": null,
   "id": "3c7af4a5-2046-4836-910b-53ebceba0f4a",
   "metadata": {},
   "outputs": [],
   "source": [
    "#answer to query 3:\n",
    "print('same borough trips:', total_trips - inter_boro_trips)\n",
    "\n",
    "#answer to query 4: another borough\n",
    "print('inter-borough trips:', inter_boro_trips)"
   ]
  },
  {
   "cell_type": "code",
   "execution_count": null,
   "id": "3bcff95f-d994-4dc0-a0f6-6cac3072189a",
   "metadata": {},
   "outputs": [],
   "source": [
    "#this cell can check whether atleast 1 trip has Bronx as starting point, its supposed to be pretty fast check but this laptop aint havin it\n",
    "\n",
    "#exists = locdf.filter(col(\"startborough\") == \"Bronx\").limit(1).isEmpty()\n",
    "#print(not exists)  # True if \"Bronx\" exists, False otherwise"
   ]
  },
  {
   "cell_type": "code",
   "execution_count": null,
   "id": "9e16c8c8-f54a-4760-a720-6bd460a77ce0",
   "metadata": {},
   "outputs": [],
   "source": []
  },
  {
   "cell_type": "code",
   "execution_count": null,
   "id": "911402aa-c586-419b-ac45-2dbbae0e8743",
   "metadata": {},
   "outputs": [],
   "source": []
  },
  {
   "cell_type": "code",
   "execution_count": null,
   "id": "f6be26e0-8276-498d-ba63-e1d8ad143382",
   "metadata": {},
   "outputs": [],
   "source": []
  }
 ],
 "metadata": {
  "kernelspec": {
   "display_name": "Python 3 (ipykernel)",
   "language": "python",
   "name": "python3"
  },
  "language_info": {
   "codemirror_mode": {
    "name": "ipython",
    "version": 3
   },
   "file_extension": ".py",
   "mimetype": "text/x-python",
   "name": "python",
   "nbconvert_exporter": "python",
   "pygments_lexer": "ipython3",
   "version": "3.11.10"
  }
 },
 "nbformat": 4,
 "nbformat_minor": 5
}
