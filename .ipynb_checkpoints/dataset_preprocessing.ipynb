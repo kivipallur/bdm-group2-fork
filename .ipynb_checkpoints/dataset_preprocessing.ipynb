{
 "cells": [
  {
   "cell_type": "code",
   "execution_count": 1,
   "id": "1bcbf7a9-2407-4a84-a46d-1b3ac1c88fd9",
   "metadata": {},
   "outputs": [],
   "source": [
    "from pyspark.sql import SparkSession\n",
    "\n",
    "spark = SparkSession.builder \\\n",
    "    .appName('SampleDataset') \\\n",
    "    .getOrCreate()\n",
    "\n",
    "df = spark.read.csv('sorted_data.csv', header = False)\n",
    "\n",
    "df = df.drop('_c16')\n",
    "\n",
    "df = df.toDF(\n",
    "    \"medallion\", \"hack_license\", \"pickup_datetime\", \"dropoff_datetime\",\n",
    "    \"trip_time_in_secs\", \"trip_distance\", \"pickup_longitude\", \"pickup_latitude\",\n",
    "    \"dropoff_longitude\", \"dropoff_latitude\", \"payment_type\", \"fare_amount\",\n",
    "    \"surcharge\", \"mta_tax\", \"tip_amount\", \"tolls_amount\"\n",
    ")\n",
    "\n",
    "sampled_df = df.sample(withReplacement = False, fraction = 1/33, seed = 42069)\n",
    "sampled_df.write.csv('sorted_data_1gb', header = True)"
   ]
  },
  {
   "cell_type": "code",
   "execution_count": null,
   "id": "6cf2c103-06f3-41a7-8d7d-66a47651a1cb",
   "metadata": {},
   "outputs": [],
   "source": []
  }
 ],
 "metadata": {
  "kernelspec": {
   "display_name": "Python 3 (ipykernel)",
   "language": "python",
   "name": "python3"
  },
  "language_info": {
   "codemirror_mode": {
    "name": "ipython",
    "version": 3
   },
   "file_extension": ".py",
   "mimetype": "text/x-python",
   "name": "python",
   "nbconvert_exporter": "python",
   "pygments_lexer": "ipython3",
   "version": "3.11.10"
  }
 },
 "nbformat": 4,
 "nbformat_minor": 5
}
